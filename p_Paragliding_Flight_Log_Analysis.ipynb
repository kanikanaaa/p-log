{
  "cells": [
    {
      "cell_type": "markdown",
      "metadata": {
        "id": "view-in-github",
        "colab_type": "text"
      },
      "source": [
        "<a href=\"https://colab.research.google.com/github/kanikanaaa/p-log/blob/main/p_Paragliding_Flight_Log_Analysis.ipynb\" target=\"_parent\"><img src=\"https://colab.research.google.com/assets/colab-badge.svg\" alt=\"Open In Colab\"/></a>"
      ]
    },
    {
      "cell_type": "code",
      "source": [
        "# pip install isodate"
      ],
      "metadata": {
        "id": "eQUXlSrpEgSA"
      },
      "execution_count": 1,
      "outputs": []
    },
    {
      "cell_type": "code",
      "source": [
        "from google.colab import drive\n",
        "drive.mount('/content/drive')"
      ],
      "metadata": {
        "id": "B9TyEW_NGlT0",
        "colab": {
          "base_uri": "https://localhost:8080/"
        },
        "outputId": "3d54e35a-5fc3-40eb-ac7d-0e5cee227fa6"
      },
      "execution_count": 2,
      "outputs": [
        {
          "output_type": "stream",
          "name": "stdout",
          "text": [
            "Drive already mounted at /content/drive; to attempt to forcibly remount, call drive.mount(\"/content/drive\", force_remount=True).\n"
          ]
        }
      ]
    },
    {
      "cell_type": "code",
      "source": [
        "# Code by Gemini2.5Pro - this is good!\n",
        "\n",
        "import json\n",
        "import pandas as pd\n",
        "from datetime import timedelta\n",
        "import re\n",
        "import plotly.express as px\n",
        "import plotly.graph_objects as go\n",
        "\n",
        "# specify the file name\n",
        "filename = \"flights.Kanikana.world2025\" # ここにファイル名を入力\n",
        "\n",
        "# Load the JSON data\n",
        "file_path = 'drive/MyDrive/' + filename + '.json'\n",
        "with open(file_path, 'r') as f:\n",
        "    data = json.load(f)\n",
        "\n",
        "# Extract flight items\n",
        "flights = data.get('items', [])\n",
        "\n",
        "# Helper function to parse ISO 8601 duration (PTnHnMnS)\n",
        "def parse_duration(duration_str):\n",
        "    if not isinstance(duration_str, str) or not duration_str.startswith('PT'):\n",
        "        return timedelta(0) # Return zero duration for invalid formats or None\n",
        "\n",
        "    # Adjusted regex to handle optional hours, minutes, seconds and potential decimals\n",
        "    match = re.match(r'PT(?:(\\d+(?:\\.\\d+)?)H)?(?:(\\d+(?:\\.\\d+)?)M)?(?:(\\d+(?:\\.\\d+)?)S)?', duration_str)\n",
        "    if not match:\n",
        "        return timedelta(0) # Return zero if regex doesn't match\n",
        "\n",
        "    hours, minutes, seconds = match.groups()\n",
        "    total_seconds = 0\n",
        "    if hours:\n",
        "        total_seconds += float(hours) * 3600\n",
        "    if minutes:\n",
        "        total_seconds += float(minutes) * 60\n",
        "    if seconds:\n",
        "        total_seconds += float(seconds)\n",
        "\n",
        "    return timedelta(seconds=total_seconds)\n",
        "\n",
        "\n",
        "# Extract relevant data into a list of dictionaries\n",
        "flight_data = []\n",
        "for flight in flights:\n",
        "    stats = flight.get('stats', {})\n",
        "    glider = flight.get('glider', {})\n",
        "    takeoff = flight.get('takeoff', {})\n",
        "    point_start = flight.get('pointStart', {})\n",
        "    countries = flight.get('countries', [])\n",
        "    country = countries[0] if countries else None # Take the first country if available\n",
        "\n",
        "    duration_td = parse_duration(stats.get('duration'))\n",
        "    duration_hours = duration_td.total_seconds() / 3600 if duration_td else 0\n",
        "\n",
        "    flight_data.append({\n",
        "        'id': flight.get('id'),\n",
        "        'date': pd.to_datetime(point_start.get('time')).date() if point_start.get('time') else None,\n",
        "        'month': pd.to_datetime(point_start.get('time')).month if point_start.get('time') else None,\n",
        "        'year': pd.to_datetime(point_start.get('time')).year if point_start.get('time') else None,\n",
        "        'duration_str': stats.get('duration'),\n",
        "        'duration_hours': duration_hours,\n",
        "        'altitude_gain': stats.get('altitudeGain'),\n",
        "        'tracklog_distance_m': stats.get('distanceTracklog'), # Assuming meters\n",
        "        'glider_name': glider.get('nameCompact'),\n",
        "        'takeoff_area': takeoff.get('name'),\n",
        "        'country': takeoff.get('countryName') # Use country name from takeoff info\n",
        "    })\n",
        "\n",
        "# Create DataFrame\n",
        "df = pd.DataFrame(flight_data)\n",
        "\n",
        "# --- Data Cleaning & Preparation ---\n",
        "# Convert distance to km\n",
        "df['tracklog_distance_km'] = df['tracklog_distance_m'] / 1000.0\n",
        "\n",
        "# Handle potential missing values (e.g., fill NaN in numerical columns with 0 if appropriate)\n",
        "df['altitude_gain'].fillna(0, inplace=True)\n",
        "df['tracklog_distance_km'].fillna(0, inplace=True)\n",
        "df['duration_hours'].fillna(0, inplace=True)\n",
        "# Fill missing categorical data with 'Unknown'\n",
        "df['glider_name'].fillna('Unknown', inplace=True)\n",
        "df['takeoff_area'].fillna('Unknown', inplace=True)\n",
        "df['country'].fillna('Unknown', inplace=True)\n",
        "\n",
        "# Ensure date column is datetime type for proper sorting/filtering if needed later\n",
        "df['date'] = pd.to_datetime(df['date'])\n",
        "# Filter out entries without a valid date as they cause issues with monthly aggregation\n",
        "df.dropna(subset=['date', 'month', 'year'], inplace=True)\n",
        "df['month'] = df['month'].astype(int) # Ensure month is integer for plotting\n",
        "df['year'] = df['year'].astype(int) # Ensure year is integer for plotting\n"
      ],
      "metadata": {
        "colab": {
          "base_uri": "https://localhost:8080/"
        },
        "id": "JBi2U1T5JbHN",
        "outputId": "f41f5940-9a78-46fb-e375-ea31bb443c55"
      },
      "execution_count": 3,
      "outputs": [
        {
          "output_type": "stream",
          "name": "stderr",
          "text": [
            "<ipython-input-3-9bcaad4dbf7f>:78: FutureWarning: A value is trying to be set on a copy of a DataFrame or Series through chained assignment using an inplace method.\n",
            "The behavior will change in pandas 3.0. This inplace method will never work because the intermediate object on which we are setting values always behaves as a copy.\n",
            "\n",
            "For example, when doing 'df[col].method(value, inplace=True)', try using 'df.method({col: value}, inplace=True)' or df[col] = df[col].method(value) instead, to perform the operation inplace on the original object.\n",
            "\n",
            "\n",
            "  df['altitude_gain'].fillna(0, inplace=True)\n",
            "<ipython-input-3-9bcaad4dbf7f>:79: FutureWarning: A value is trying to be set on a copy of a DataFrame or Series through chained assignment using an inplace method.\n",
            "The behavior will change in pandas 3.0. This inplace method will never work because the intermediate object on which we are setting values always behaves as a copy.\n",
            "\n",
            "For example, when doing 'df[col].method(value, inplace=True)', try using 'df.method({col: value}, inplace=True)' or df[col] = df[col].method(value) instead, to perform the operation inplace on the original object.\n",
            "\n",
            "\n",
            "  df['tracklog_distance_km'].fillna(0, inplace=True)\n",
            "<ipython-input-3-9bcaad4dbf7f>:80: FutureWarning: A value is trying to be set on a copy of a DataFrame or Series through chained assignment using an inplace method.\n",
            "The behavior will change in pandas 3.0. This inplace method will never work because the intermediate object on which we are setting values always behaves as a copy.\n",
            "\n",
            "For example, when doing 'df[col].method(value, inplace=True)', try using 'df.method({col: value}, inplace=True)' or df[col] = df[col].method(value) instead, to perform the operation inplace on the original object.\n",
            "\n",
            "\n",
            "  df['duration_hours'].fillna(0, inplace=True)\n",
            "<ipython-input-3-9bcaad4dbf7f>:82: FutureWarning: A value is trying to be set on a copy of a DataFrame or Series through chained assignment using an inplace method.\n",
            "The behavior will change in pandas 3.0. This inplace method will never work because the intermediate object on which we are setting values always behaves as a copy.\n",
            "\n",
            "For example, when doing 'df[col].method(value, inplace=True)', try using 'df.method({col: value}, inplace=True)' or df[col] = df[col].method(value) instead, to perform the operation inplace on the original object.\n",
            "\n",
            "\n",
            "  df['glider_name'].fillna('Unknown', inplace=True)\n",
            "<ipython-input-3-9bcaad4dbf7f>:83: FutureWarning: A value is trying to be set on a copy of a DataFrame or Series through chained assignment using an inplace method.\n",
            "The behavior will change in pandas 3.0. This inplace method will never work because the intermediate object on which we are setting values always behaves as a copy.\n",
            "\n",
            "For example, when doing 'df[col].method(value, inplace=True)', try using 'df.method({col: value}, inplace=True)' or df[col] = df[col].method(value) instead, to perform the operation inplace on the original object.\n",
            "\n",
            "\n",
            "  df['takeoff_area'].fillna('Unknown', inplace=True)\n",
            "<ipython-input-3-9bcaad4dbf7f>:84: FutureWarning: A value is trying to be set on a copy of a DataFrame or Series through chained assignment using an inplace method.\n",
            "The behavior will change in pandas 3.0. This inplace method will never work because the intermediate object on which we are setting values always behaves as a copy.\n",
            "\n",
            "For example, when doing 'df[col].method(value, inplace=True)', try using 'df.method({col: value}, inplace=True)' or df[col] = df[col].method(value) instead, to perform the operation inplace on the original object.\n",
            "\n",
            "\n",
            "  df['country'].fillna('Unknown', inplace=True)\n"
          ]
        }
      ]
    },
    {
      "cell_type": "code",
      "source": [
        "# --- Overall Statistics ---\n",
        "total_flights = len(df)\n",
        "total_duration_hours = df['duration_hours'].sum()\n",
        "total_distance_km = df['tracklog_distance_km'].sum()\n",
        "total_altitude_gain = df['altitude_gain'].sum()\n",
        "\n",
        "print(\"--- Overall Statistics ---\")\n",
        "print(f\"Total Flights: {total_flights}\")\n",
        "print(f\"Total Flight Hours: {total_duration_hours:.2f}\")\n",
        "print(f\"Total Flight Distance (Tracklog): {total_distance_km:.2f} km\")\n",
        "print(f\"Total Altitude Gain: {total_altitude_gain:.0f} m\")\n",
        "# print(\"-\" * 25)\n",
        "\n",
        "# --- Additional Analysis Ideas (Output as text) ---\n",
        "# print(\"\\n--- My records ---\")\n",
        "# Longest flight by duration\n",
        "longest_flight_dur = df.loc[df['duration_hours'].idxmax()]\n",
        "print(f\"\\nLongest Flight (Duration): {longest_flight_dur['duration_hours']:.2f} hours on {longest_flight_dur['date'].strftime('%Y-%m-%d')} from {longest_flight_dur['takeoff_area']}\")\n",
        "\n",
        "# Longest flight by distance\n",
        "longest_flight_dist = df.loc[df['tracklog_distance_km'].idxmax()]\n",
        "print(f\"Longest Flight (Distance): {longest_flight_dist['tracklog_distance_km']:.2f} km on {longest_flight_dist['date'].strftime('%Y-%m-%d')} from {longest_flight_dist['takeoff_area']}\")\n",
        "\n",
        "# Highest Altitude Gain in a single flight\n",
        "highest_gain = df.loc[df['altitude_gain'].idxmax()]\n",
        "print(f\"Highest Altitude Gain (Single Flight): {highest_gain['altitude_gain']:.0f} m on {highest_gain['date'].strftime('%Y-%m-%d')} from {highest_gain['takeoff_area']}\")\n",
        "\n",
        "# Average stats per flight\n",
        "avg_duration = df['duration_hours'].mean()\n",
        "avg_distance = df['tracklog_distance_km'].mean()\n",
        "avg_altitude_gain = df['altitude_gain'].mean()\n",
        "print(f\"\\nAverage Flight Duration: {avg_duration:.2f} hours\")\n",
        "print(f\"Average Flight Distance: {avg_distance:.2f} km\")\n",
        "print(f\"Average Altitude Gain: {avg_altitude_gain:.0f} m\")\n",
        "\n",
        "print(\"-\" * 25)\n",
        "\n",
        "# --- Statistics per Glider ---\n",
        "print(\"\\n--- Statistics per Glider ---\")\n",
        "stats_per_glider = df.groupby('glider_name').agg(\n",
        "    flight_count=('id', 'count'),\n",
        "    total_duration_hours=('duration_hours', 'sum'),\n",
        "    total_distance_km=('tracklog_distance_km', 'sum'),\n",
        "    total_altitude_gain=('altitude_gain', 'sum')\n",
        ").reset_index()\n",
        "print(stats_per_glider.to_markdown(index=False))\n",
        "print(\"-\" * 25)\n",
        "\n",
        "\n",
        "# --- Statistics per Flight Area ---\n",
        "print(\"\\n--- Statistics per Flight Area ---\")\n",
        "stats_per_area = df.groupby('takeoff_area').agg(\n",
        "    flight_count=('id', 'count'),\n",
        "    total_duration_hours=('duration_hours', 'sum'),\n",
        "    total_distance_km=('tracklog_distance_km', 'sum'),\n",
        "    total_altitude_gain=('altitude_gain', 'sum')\n",
        ").reset_index()\n",
        "print(stats_per_area.to_markdown(index=False))\n",
        "print(\"-\" * 25)\n",
        "\n",
        "# --- Statistics per Country ---\n",
        "print(\"\\n--- Statistics per Country ---\")\n",
        "stats_per_country = df.groupby('country').agg(\n",
        "    flight_count=('id', 'count'),\n",
        "    total_duration_hours=('duration_hours', 'sum'),\n",
        "    total_distance_km=('tracklog_distance_km', 'sum'),\n",
        "    total_altitude_gain=('altitude_gain', 'sum')\n",
        ").reset_index()\n",
        "print(stats_per_country.to_markdown(index=False))\n",
        "print(\"-\" * 25)\n",
        "\n",
        "\n",
        "# --- Monthly Breakdown ---\n",
        "# Aggregate data by month and year\n",
        "monthly_stats = df.groupby(['year', 'month']).agg(\n",
        "    flight_count=('id', 'count'),\n",
        "    total_duration_hours=('duration_hours', 'sum'),\n",
        "    total_distance_km=('tracklog_distance_km', 'sum'),\n",
        "    total_altitude_gain=('altitude_gain', 'sum')\n",
        ").reset_index()\n",
        "\n",
        "# Create a proper date for sorting/plotting (using the first day of the month)\n",
        "monthly_stats['month_start_date'] = pd.to_datetime(monthly_stats['year'].astype(str) + '-' + monthly_stats['month'].astype(str) + '-01')\n",
        "monthly_stats.sort_values('month_start_date', inplace=True)\n",
        "# Create a Year-Month label for clearer plotting\n",
        "monthly_stats['year_month'] = monthly_stats['month_start_date'].dt.strftime('%Y-%m')\n",
        "\n"
      ],
      "metadata": {
        "colab": {
          "base_uri": "https://localhost:8080/"
        },
        "id": "W2WoKclGOtkG",
        "outputId": "091491f6-dfd3-4d70-ed0d-521e56920dc9"
      },
      "execution_count": 4,
      "outputs": [
        {
          "output_type": "stream",
          "name": "stdout",
          "text": [
            "--- Overall Statistics ---\n",
            "Total Flights: 51\n",
            "Total Flight Hours: 46.58\n",
            "Total Flight Distance (Tracklog): 1407.63 km\n",
            "Total Altitude Gain: 18792 m\n",
            "\n",
            "Longest Flight (Duration): 3.17 hours on 2025-04-05 from Ashio テイクオフ\n",
            "Longest Flight (Distance): 119.93 km on 2025-04-05 from Ashio テイクオフ\n",
            "Highest Altitude Gain (Single Flight): 1619 m on 2025-04-05 from Ashio テイクオフ\n",
            "\n",
            "Average Flight Duration: 0.91 hours\n",
            "Average Flight Distance: 27.60 km\n",
            "Average Altitude Gain: 368 m\n",
            "-------------------------\n",
            "\n",
            "--- Statistics per Glider ---\n",
            "| glider_name     |   flight_count |   total_duration_hours |   total_distance_km |   total_altitude_gain |\n",
            "|:----------------|---------------:|-----------------------:|--------------------:|----------------------:|\n",
            "| AIRDESIGN Soar  |              1 |               0.198333 |               6.072 |                     1 |\n",
            "| BGD Echo 2      |             15 |              11.0414   |             321.518 |                  4901 |\n",
            "| DAVINCI Funky 2 |              1 |               1.28389  |              36.317 |                   489 |\n",
            "| SKY Apollo 3    |              2 |               0.450556 |              13.33  |                     0 |\n",
            "| SKYWALK Cumeo 2 |             32 |              33.6058   |            1030.39  |                 13401 |\n",
            "-------------------------\n",
            "\n",
            "--- Statistics per Flight Area ---\n",
            "| takeoff_area     |   flight_count |   total_duration_hours |   total_distance_km |   total_altitude_gain |\n",
            "|:-----------------|---------------:|-----------------------:|--------------------:|----------------------:|\n",
            "| ?                |              3 |               0.648889 |              19.402 |                     1 |\n",
            "| Akaiwa           |              1 |               1.91194  |              53.294 |                   334 |\n",
            "| Ashio テイクオフ |              9 |               9.88889  |             316.335 |                  4454 |\n",
            "| GrandVolee       |              1 |               1.08083  |              33.144 |                   431 |\n",
            "| Mikamo           |              1 |               0.164444 |               4.376 |                    79 |\n",
            "| Myougi           |              3 |               0.951944 |              28.681 |                   493 |\n",
            "| Saichia          |              2 |               3.02306  |              95.674 |                   892 |\n",
            "| 大平             |             31 |              28.91     |             856.725 |                 12108 |\n",
            "-------------------------\n",
            "\n",
            "--- Statistics per Country ---\n",
            "| country                   |   flight_count |   total_duration_hours |   total_distance_km |   total_altitude_gain |\n",
            "|:--------------------------|---------------:|-----------------------:|--------------------:|----------------------:|\n",
            "| Japan                     |             49 |               43.5569  |            1311.96  |                 17900 |\n",
            "| Taiwan, Republic of China |              2 |                3.02306 |              95.674 |                   892 |\n",
            "-------------------------\n"
          ]
        }
      ]
    },
    {
      "cell_type": "code",
      "source": [
        "# prompt: export the above output as a text file\n",
        "\n",
        "with open('drive/MyDrive/'+ filename + '-stats.txt', 'w') as f: #file name 変えたい\n",
        "    # Redirect stdout to the file\n",
        "    import sys\n",
        "    original_stdout = sys.stdout\n",
        "    sys.stdout = f\n",
        "\n",
        "    # Your print statements here\n",
        "    print(\"--- Overall Statistics ---\")\n",
        "    print(f\"Total Flights: {total_flights}\")\n",
        "    print(f\"Total Flight Hours: {total_duration_hours:.2f}\")\n",
        "    print(f\"Total Flight Distance (Tracklog): {total_distance_km:.2f} km\")\n",
        "    print(f\"Total Altitude Gain: {total_altitude_gain:.0f} m\")\n",
        "    # print(\"-\" * 25)\n",
        "\n",
        "    # --- Additional Analysis Ideas (Output as text) ---\n",
        "    # print(\"\\n--- My records ---\")\n",
        "    # Longest flight by duration\n",
        "    longest_flight_dur = df.loc[df['duration_hours'].idxmax()]\n",
        "    print(f\"\\nLongest Flight (Duration): {longest_flight_dur['duration_hours']:.2f} hours on {longest_flight_dur['date'].strftime('%Y-%m-%d')} from {longest_flight_dur['takeoff_area']}\")\n",
        "\n",
        "    # Longest flight by distance\n",
        "    longest_flight_dist = df.loc[df['tracklog_distance_km'].idxmax()]\n",
        "    print(f\"Longest Flight (Distance): {longest_flight_dist['tracklog_distance_km']:.2f} km on {longest_flight_dist['date'].strftime('%Y-%m-%d')} from {longest_flight_dist['takeoff_area']}\")\n",
        "\n",
        "    # Highest Altitude Gain in a single flight\n",
        "    highest_gain = df.loc[df['altitude_gain'].idxmax()]\n",
        "    print(f\"Highest Altitude Gain (Single Flight): {highest_gain['altitude_gain']:.0f} m on {highest_gain['date'].strftime('%Y-%m-%d')} from {highest_gain['takeoff_area']}\")\n",
        "\n",
        "    # Average stats per flight\n",
        "    avg_duration = df['duration_hours'].mean()\n",
        "    avg_distance = df['tracklog_distance_km'].mean()\n",
        "    avg_altitude_gain = df['altitude_gain'].mean()\n",
        "    print(f\"\\nAverage Flight Duration: {avg_duration:.2f} hours\")\n",
        "    print(f\"Average Flight Distance: {avg_distance:.2f} km\")\n",
        "    print(f\"Average Altitude Gain: {avg_altitude_gain:.0f} m\")\n",
        "\n",
        "    print(\"-\" * 25)\n",
        "\n",
        "\n",
        "    # --- Statistics per Glider ---\n",
        "    print(\"\\n--- Statistics per Glider ---\")\n",
        "    stats_per_glider = df.groupby('glider_name').agg(\n",
        "        flight_count=('id', 'count'),\n",
        "        total_duration_hours=('duration_hours', 'sum'),\n",
        "        total_distance_km=('tracklog_distance_km', 'sum'),\n",
        "        total_altitude_gain=('altitude_gain', 'sum')\n",
        "    ).reset_index()\n",
        "    print(stats_per_glider.to_markdown(index=False))\n",
        "    print(\"-\" * 25)\n",
        "\n",
        "\n",
        "    # --- Statistics per Flight Area ---\n",
        "    print(\"\\n--- Statistics per Flight Area ---\")\n",
        "    stats_per_area = df.groupby('takeoff_area').agg(\n",
        "        flight_count=('id', 'count'),\n",
        "        total_duration_hours=('duration_hours', 'sum'),\n",
        "        total_distance_km=('tracklog_distance_km', 'sum'),\n",
        "        total_altitude_gain=('altitude_gain', 'sum')\n",
        "    ).reset_index()\n",
        "    print(stats_per_area.to_markdown(index=False))\n",
        "    print(\"-\" * 25)\n",
        "\n",
        "    # --- Statistics per Country ---\n",
        "    print(\"\\n--- Statistics per Country ---\")\n",
        "    stats_per_country = df.groupby('country').agg(\n",
        "        flight_count=('id', 'count'),\n",
        "        total_duration_hours=('duration_hours', 'sum'),\n",
        "        total_distance_km=('tracklog_distance_km', 'sum'),\n",
        "        total_altitude_gain=('altitude_gain', 'sum')\n",
        "    ).reset_index()\n",
        "    print(stats_per_country.to_markdown(index=False))\n",
        "    print(\"-\" * 25)\n",
        "\n",
        "    # Restore stdout\n",
        "    sys.stdout = original_stdout\n"
      ],
      "metadata": {
        "id": "DGTPSAYC0iAp"
      },
      "execution_count": 5,
      "outputs": []
    },
    {
      "cell_type": "code",
      "source": [
        "\n",
        "# --- Visualization ---\n",
        "print(\"\\n--- Generating Visualizations ---\")\n",
        "\n",
        "# Plot Flight Count per Month\n",
        "fig_count = px.bar(monthly_stats, x='year_month', y='flight_count',\n",
        "                   title='Number of Flights per Month',\n",
        "                   labels={'year_month': 'Month', 'flight_count': 'Number of Flights'},\n",
        "                   text_auto=True) # Display values on bars\n",
        "fig_count.update_layout(xaxis_tickangle=-45)\n",
        "fig_count.show()\n",
        "\n",
        "# Plot Flight Duration per Month\n",
        "fig_duration = px.bar(monthly_stats, x='year_month', y='total_duration_hours',\n",
        "                      title='Total Flight Duration (Hours) per Month',\n",
        "                      labels={'year_month': 'Month', 'total_duration_hours': 'Total Duration (Hours)'},\n",
        "                      text_auto='.1f', # Display values with 1 decimal place\n",
        "                      color_discrete_sequence =['forestgreen']) #change color\n",
        "fig_duration.update_layout(xaxis_tickangle=-45)\n",
        "fig_duration.show()\n",
        "\n",
        "# Plot Flight Distance per Month\n",
        "#fig_distance = px.bar(monthly_stats, x='year_month', y='total_distance_km',\n",
        "#                      title='Total Flight Distance (km) per Month',\n",
        "#                      labels={'year_month': 'Month', 'total_distance_km': 'Total Distance (km)'},\n",
        "#                      text_auto='.1f',\n",
        "#                      color_discrete_sequence =['lightpink'])\n",
        "#fig_distance.update_layout(xaxis_tickangle=-45)\n",
        "#fig_distance.show()\n",
        "\n",
        "# Plot Altitude Gain per Month\n",
        "# fig_altitude = px.bar(monthly_stats, x='year_month', y='total_altitude_gain',\n",
        "#                      title='Total Altitude Gain (m) per Month',\n",
        "#                      labels={'year_month': 'Month', 'total_altitude_gain': 'Total Altitude Gain (m)'},\n",
        "#                      text_auto='.0f', # Display integer values\n",
        "#                      color_discrete_sequence =['lightpink'])\n",
        "#fig_altitude.update_layout(xaxis_tickangle=-45)\n",
        "#fig_altitude.show()"
      ],
      "metadata": {
        "colab": {
          "base_uri": "https://localhost:8080/",
          "height": 1000
        },
        "id": "8wdvY0sE8fLN",
        "outputId": "4581c14b-b5cb-40fd-f570-2ff2f1c58f09"
      },
      "execution_count": 6,
      "outputs": [
        {
          "output_type": "stream",
          "name": "stdout",
          "text": [
            "\n",
            "--- Generating Visualizations ---\n"
          ]
        },
        {
          "output_type": "display_data",
          "data": {
            "text/html": [
              "<html>\n",
              "<head><meta charset=\"utf-8\" /></head>\n",
              "<body>\n",
              "    <div>            <script src=\"https://cdnjs.cloudflare.com/ajax/libs/mathjax/2.7.5/MathJax.js?config=TeX-AMS-MML_SVG\"></script><script type=\"text/javascript\">if (window.MathJax && window.MathJax.Hub && window.MathJax.Hub.Config) {window.MathJax.Hub.Config({SVG: {font: \"STIX-Web\"}});}</script>                <script type=\"text/javascript\">window.PlotlyConfig = {MathJaxConfig: 'local'};</script>\n",
              "        <script charset=\"utf-8\" src=\"https://cdn.plot.ly/plotly-2.35.2.min.js\"></script>                <div id=\"3360a886-9566-401d-9610-79c9ee70c762\" class=\"plotly-graph-div\" style=\"height:525px; width:100%;\"></div>            <script type=\"text/javascript\">                                    window.PLOTLYENV=window.PLOTLYENV || {};                                    if (document.getElementById(\"3360a886-9566-401d-9610-79c9ee70c762\")) {                    Plotly.newPlot(                        \"3360a886-9566-401d-9610-79c9ee70c762\",                        [{\"alignmentgroup\":\"True\",\"hovertemplate\":\"Month=%{x}\\u003cbr\\u003eNumber of Flights=%{y}\\u003cextra\\u003e\\u003c\\u002fextra\\u003e\",\"legendgroup\":\"\",\"marker\":{\"color\":\"#636efa\",\"pattern\":{\"shape\":\"\"}},\"name\":\"\",\"offsetgroup\":\"\",\"orientation\":\"v\",\"showlegend\":false,\"textposition\":\"auto\",\"texttemplate\":\"%{y}\",\"x\":[\"2024-10\",\"2024-11\",\"2024-12\",\"2025-01\",\"2025-02\",\"2025-03\",\"2025-04\",\"2025-05\"],\"xaxis\":\"x\",\"y\":[8,9,5,5,4,8,5,7],\"yaxis\":\"y\",\"type\":\"bar\"}],                        {\"template\":{\"data\":{\"histogram2dcontour\":[{\"type\":\"histogram2dcontour\",\"colorbar\":{\"outlinewidth\":0,\"ticks\":\"\"},\"colorscale\":[[0.0,\"#0d0887\"],[0.1111111111111111,\"#46039f\"],[0.2222222222222222,\"#7201a8\"],[0.3333333333333333,\"#9c179e\"],[0.4444444444444444,\"#bd3786\"],[0.5555555555555556,\"#d8576b\"],[0.6666666666666666,\"#ed7953\"],[0.7777777777777778,\"#fb9f3a\"],[0.8888888888888888,\"#fdca26\"],[1.0,\"#f0f921\"]]}],\"choropleth\":[{\"type\":\"choropleth\",\"colorbar\":{\"outlinewidth\":0,\"ticks\":\"\"}}],\"histogram2d\":[{\"type\":\"histogram2d\",\"colorbar\":{\"outlinewidth\":0,\"ticks\":\"\"},\"colorscale\":[[0.0,\"#0d0887\"],[0.1111111111111111,\"#46039f\"],[0.2222222222222222,\"#7201a8\"],[0.3333333333333333,\"#9c179e\"],[0.4444444444444444,\"#bd3786\"],[0.5555555555555556,\"#d8576b\"],[0.6666666666666666,\"#ed7953\"],[0.7777777777777778,\"#fb9f3a\"],[0.8888888888888888,\"#fdca26\"],[1.0,\"#f0f921\"]]}],\"heatmap\":[{\"type\":\"heatmap\",\"colorbar\":{\"outlinewidth\":0,\"ticks\":\"\"},\"colorscale\":[[0.0,\"#0d0887\"],[0.1111111111111111,\"#46039f\"],[0.2222222222222222,\"#7201a8\"],[0.3333333333333333,\"#9c179e\"],[0.4444444444444444,\"#bd3786\"],[0.5555555555555556,\"#d8576b\"],[0.6666666666666666,\"#ed7953\"],[0.7777777777777778,\"#fb9f3a\"],[0.8888888888888888,\"#fdca26\"],[1.0,\"#f0f921\"]]}],\"heatmapgl\":[{\"type\":\"heatmapgl\",\"colorbar\":{\"outlinewidth\":0,\"ticks\":\"\"},\"colorscale\":[[0.0,\"#0d0887\"],[0.1111111111111111,\"#46039f\"],[0.2222222222222222,\"#7201a8\"],[0.3333333333333333,\"#9c179e\"],[0.4444444444444444,\"#bd3786\"],[0.5555555555555556,\"#d8576b\"],[0.6666666666666666,\"#ed7953\"],[0.7777777777777778,\"#fb9f3a\"],[0.8888888888888888,\"#fdca26\"],[1.0,\"#f0f921\"]]}],\"contourcarpet\":[{\"type\":\"contourcarpet\",\"colorbar\":{\"outlinewidth\":0,\"ticks\":\"\"}}],\"contour\":[{\"type\":\"contour\",\"colorbar\":{\"outlinewidth\":0,\"ticks\":\"\"},\"colorscale\":[[0.0,\"#0d0887\"],[0.1111111111111111,\"#46039f\"],[0.2222222222222222,\"#7201a8\"],[0.3333333333333333,\"#9c179e\"],[0.4444444444444444,\"#bd3786\"],[0.5555555555555556,\"#d8576b\"],[0.6666666666666666,\"#ed7953\"],[0.7777777777777778,\"#fb9f3a\"],[0.8888888888888888,\"#fdca26\"],[1.0,\"#f0f921\"]]}],\"surface\":[{\"type\":\"surface\",\"colorbar\":{\"outlinewidth\":0,\"ticks\":\"\"},\"colorscale\":[[0.0,\"#0d0887\"],[0.1111111111111111,\"#46039f\"],[0.2222222222222222,\"#7201a8\"],[0.3333333333333333,\"#9c179e\"],[0.4444444444444444,\"#bd3786\"],[0.5555555555555556,\"#d8576b\"],[0.6666666666666666,\"#ed7953\"],[0.7777777777777778,\"#fb9f3a\"],[0.8888888888888888,\"#fdca26\"],[1.0,\"#f0f921\"]]}],\"mesh3d\":[{\"type\":\"mesh3d\",\"colorbar\":{\"outlinewidth\":0,\"ticks\":\"\"}}],\"scatter\":[{\"fillpattern\":{\"fillmode\":\"overlay\",\"size\":10,\"solidity\":0.2},\"type\":\"scatter\"}],\"parcoords\":[{\"type\":\"parcoords\",\"line\":{\"colorbar\":{\"outlinewidth\":0,\"ticks\":\"\"}}}],\"scatterpolargl\":[{\"type\":\"scatterpolargl\",\"marker\":{\"colorbar\":{\"outlinewidth\":0,\"ticks\":\"\"}}}],\"bar\":[{\"error_x\":{\"color\":\"#2a3f5f\"},\"error_y\":{\"color\":\"#2a3f5f\"},\"marker\":{\"line\":{\"color\":\"#E5ECF6\",\"width\":0.5},\"pattern\":{\"fillmode\":\"overlay\",\"size\":10,\"solidity\":0.2}},\"type\":\"bar\"}],\"scattergeo\":[{\"type\":\"scattergeo\",\"marker\":{\"colorbar\":{\"outlinewidth\":0,\"ticks\":\"\"}}}],\"scatterpolar\":[{\"type\":\"scatterpolar\",\"marker\":{\"colorbar\":{\"outlinewidth\":0,\"ticks\":\"\"}}}],\"histogram\":[{\"marker\":{\"pattern\":{\"fillmode\":\"overlay\",\"size\":10,\"solidity\":0.2}},\"type\":\"histogram\"}],\"scattergl\":[{\"type\":\"scattergl\",\"marker\":{\"colorbar\":{\"outlinewidth\":0,\"ticks\":\"\"}}}],\"scatter3d\":[{\"type\":\"scatter3d\",\"line\":{\"colorbar\":{\"outlinewidth\":0,\"ticks\":\"\"}},\"marker\":{\"colorbar\":{\"outlinewidth\":0,\"ticks\":\"\"}}}],\"scattermapbox\":[{\"type\":\"scattermapbox\",\"marker\":{\"colorbar\":{\"outlinewidth\":0,\"ticks\":\"\"}}}],\"scatterternary\":[{\"type\":\"scatterternary\",\"marker\":{\"colorbar\":{\"outlinewidth\":0,\"ticks\":\"\"}}}],\"scattercarpet\":[{\"type\":\"scattercarpet\",\"marker\":{\"colorbar\":{\"outlinewidth\":0,\"ticks\":\"\"}}}],\"carpet\":[{\"aaxis\":{\"endlinecolor\":\"#2a3f5f\",\"gridcolor\":\"white\",\"linecolor\":\"white\",\"minorgridcolor\":\"white\",\"startlinecolor\":\"#2a3f5f\"},\"baxis\":{\"endlinecolor\":\"#2a3f5f\",\"gridcolor\":\"white\",\"linecolor\":\"white\",\"minorgridcolor\":\"white\",\"startlinecolor\":\"#2a3f5f\"},\"type\":\"carpet\"}],\"table\":[{\"cells\":{\"fill\":{\"color\":\"#EBF0F8\"},\"line\":{\"color\":\"white\"}},\"header\":{\"fill\":{\"color\":\"#C8D4E3\"},\"line\":{\"color\":\"white\"}},\"type\":\"table\"}],\"barpolar\":[{\"marker\":{\"line\":{\"color\":\"#E5ECF6\",\"width\":0.5},\"pattern\":{\"fillmode\":\"overlay\",\"size\":10,\"solidity\":0.2}},\"type\":\"barpolar\"}],\"pie\":[{\"automargin\":true,\"type\":\"pie\"}]},\"layout\":{\"autotypenumbers\":\"strict\",\"colorway\":[\"#636efa\",\"#EF553B\",\"#00cc96\",\"#ab63fa\",\"#FFA15A\",\"#19d3f3\",\"#FF6692\",\"#B6E880\",\"#FF97FF\",\"#FECB52\"],\"font\":{\"color\":\"#2a3f5f\"},\"hovermode\":\"closest\",\"hoverlabel\":{\"align\":\"left\"},\"paper_bgcolor\":\"white\",\"plot_bgcolor\":\"#E5ECF6\",\"polar\":{\"bgcolor\":\"#E5ECF6\",\"angularaxis\":{\"gridcolor\":\"white\",\"linecolor\":\"white\",\"ticks\":\"\"},\"radialaxis\":{\"gridcolor\":\"white\",\"linecolor\":\"white\",\"ticks\":\"\"}},\"ternary\":{\"bgcolor\":\"#E5ECF6\",\"aaxis\":{\"gridcolor\":\"white\",\"linecolor\":\"white\",\"ticks\":\"\"},\"baxis\":{\"gridcolor\":\"white\",\"linecolor\":\"white\",\"ticks\":\"\"},\"caxis\":{\"gridcolor\":\"white\",\"linecolor\":\"white\",\"ticks\":\"\"}},\"coloraxis\":{\"colorbar\":{\"outlinewidth\":0,\"ticks\":\"\"}},\"colorscale\":{\"sequential\":[[0.0,\"#0d0887\"],[0.1111111111111111,\"#46039f\"],[0.2222222222222222,\"#7201a8\"],[0.3333333333333333,\"#9c179e\"],[0.4444444444444444,\"#bd3786\"],[0.5555555555555556,\"#d8576b\"],[0.6666666666666666,\"#ed7953\"],[0.7777777777777778,\"#fb9f3a\"],[0.8888888888888888,\"#fdca26\"],[1.0,\"#f0f921\"]],\"sequentialminus\":[[0.0,\"#0d0887\"],[0.1111111111111111,\"#46039f\"],[0.2222222222222222,\"#7201a8\"],[0.3333333333333333,\"#9c179e\"],[0.4444444444444444,\"#bd3786\"],[0.5555555555555556,\"#d8576b\"],[0.6666666666666666,\"#ed7953\"],[0.7777777777777778,\"#fb9f3a\"],[0.8888888888888888,\"#fdca26\"],[1.0,\"#f0f921\"]],\"diverging\":[[0,\"#8e0152\"],[0.1,\"#c51b7d\"],[0.2,\"#de77ae\"],[0.3,\"#f1b6da\"],[0.4,\"#fde0ef\"],[0.5,\"#f7f7f7\"],[0.6,\"#e6f5d0\"],[0.7,\"#b8e186\"],[0.8,\"#7fbc41\"],[0.9,\"#4d9221\"],[1,\"#276419\"]]},\"xaxis\":{\"gridcolor\":\"white\",\"linecolor\":\"white\",\"ticks\":\"\",\"title\":{\"standoff\":15},\"zerolinecolor\":\"white\",\"automargin\":true,\"zerolinewidth\":2},\"yaxis\":{\"gridcolor\":\"white\",\"linecolor\":\"white\",\"ticks\":\"\",\"title\":{\"standoff\":15},\"zerolinecolor\":\"white\",\"automargin\":true,\"zerolinewidth\":2},\"scene\":{\"xaxis\":{\"backgroundcolor\":\"#E5ECF6\",\"gridcolor\":\"white\",\"linecolor\":\"white\",\"showbackground\":true,\"ticks\":\"\",\"zerolinecolor\":\"white\",\"gridwidth\":2},\"yaxis\":{\"backgroundcolor\":\"#E5ECF6\",\"gridcolor\":\"white\",\"linecolor\":\"white\",\"showbackground\":true,\"ticks\":\"\",\"zerolinecolor\":\"white\",\"gridwidth\":2},\"zaxis\":{\"backgroundcolor\":\"#E5ECF6\",\"gridcolor\":\"white\",\"linecolor\":\"white\",\"showbackground\":true,\"ticks\":\"\",\"zerolinecolor\":\"white\",\"gridwidth\":2}},\"shapedefaults\":{\"line\":{\"color\":\"#2a3f5f\"}},\"annotationdefaults\":{\"arrowcolor\":\"#2a3f5f\",\"arrowhead\":0,\"arrowwidth\":1},\"geo\":{\"bgcolor\":\"white\",\"landcolor\":\"#E5ECF6\",\"subunitcolor\":\"white\",\"showland\":true,\"showlakes\":true,\"lakecolor\":\"white\"},\"title\":{\"x\":0.05},\"mapbox\":{\"style\":\"light\"}}},\"xaxis\":{\"anchor\":\"y\",\"domain\":[0.0,1.0],\"title\":{\"text\":\"Month\"},\"tickangle\":-45},\"yaxis\":{\"anchor\":\"x\",\"domain\":[0.0,1.0],\"title\":{\"text\":\"Number of Flights\"}},\"legend\":{\"tracegroupgap\":0},\"title\":{\"text\":\"Number of Flights per Month\"},\"barmode\":\"relative\"},                        {\"responsive\": true}                    ).then(function(){\n",
              "                            \n",
              "var gd = document.getElementById('3360a886-9566-401d-9610-79c9ee70c762');\n",
              "var x = new MutationObserver(function (mutations, observer) {{\n",
              "        var display = window.getComputedStyle(gd).display;\n",
              "        if (!display || display === 'none') {{\n",
              "            console.log([gd, 'removed!']);\n",
              "            Plotly.purge(gd);\n",
              "            observer.disconnect();\n",
              "        }}\n",
              "}});\n",
              "\n",
              "// Listen for the removal of the full notebook cells\n",
              "var notebookContainer = gd.closest('#notebook-container');\n",
              "if (notebookContainer) {{\n",
              "    x.observe(notebookContainer, {childList: true});\n",
              "}}\n",
              "\n",
              "// Listen for the clearing of the current output cell\n",
              "var outputEl = gd.closest('.output');\n",
              "if (outputEl) {{\n",
              "    x.observe(outputEl, {childList: true});\n",
              "}}\n",
              "\n",
              "                        })                };                            </script>        </div>\n",
              "</body>\n",
              "</html>"
            ]
          },
          "metadata": {}
        },
        {
          "output_type": "display_data",
          "data": {
            "text/html": [
              "<html>\n",
              "<head><meta charset=\"utf-8\" /></head>\n",
              "<body>\n",
              "    <div>            <script src=\"https://cdnjs.cloudflare.com/ajax/libs/mathjax/2.7.5/MathJax.js?config=TeX-AMS-MML_SVG\"></script><script type=\"text/javascript\">if (window.MathJax && window.MathJax.Hub && window.MathJax.Hub.Config) {window.MathJax.Hub.Config({SVG: {font: \"STIX-Web\"}});}</script>                <script type=\"text/javascript\">window.PlotlyConfig = {MathJaxConfig: 'local'};</script>\n",
              "        <script charset=\"utf-8\" src=\"https://cdn.plot.ly/plotly-2.35.2.min.js\"></script>                <div id=\"193872e1-ac6c-4773-b1a9-36a1418f0a75\" class=\"plotly-graph-div\" style=\"height:525px; width:100%;\"></div>            <script type=\"text/javascript\">                                    window.PLOTLYENV=window.PLOTLYENV || {};                                    if (document.getElementById(\"193872e1-ac6c-4773-b1a9-36a1418f0a75\")) {                    Plotly.newPlot(                        \"193872e1-ac6c-4773-b1a9-36a1418f0a75\",                        [{\"alignmentgroup\":\"True\",\"hovertemplate\":\"Month=%{x}\\u003cbr\\u003eTotal Duration (Hours)=%{y}\\u003cextra\\u003e\\u003c\\u002fextra\\u003e\",\"legendgroup\":\"\",\"marker\":{\"color\":\"forestgreen\",\"pattern\":{\"shape\":\"\"}},\"name\":\"\",\"offsetgroup\":\"\",\"orientation\":\"v\",\"showlegend\":false,\"textposition\":\"auto\",\"texttemplate\":\"%{y:.1f}\",\"x\":[\"2024-10\",\"2024-11\",\"2024-12\",\"2025-01\",\"2025-02\",\"2025-03\",\"2025-04\",\"2025-05\"],\"xaxis\":\"x\",\"y\":[4.937777777777777,6.8583333333333325,2.105833333333333,6.123055555555555,6.236944444444444,8.140277777777778,7.006666666666666,5.171111111111111],\"yaxis\":\"y\",\"type\":\"bar\"}],                        {\"template\":{\"data\":{\"histogram2dcontour\":[{\"type\":\"histogram2dcontour\",\"colorbar\":{\"outlinewidth\":0,\"ticks\":\"\"},\"colorscale\":[[0.0,\"#0d0887\"],[0.1111111111111111,\"#46039f\"],[0.2222222222222222,\"#7201a8\"],[0.3333333333333333,\"#9c179e\"],[0.4444444444444444,\"#bd3786\"],[0.5555555555555556,\"#d8576b\"],[0.6666666666666666,\"#ed7953\"],[0.7777777777777778,\"#fb9f3a\"],[0.8888888888888888,\"#fdca26\"],[1.0,\"#f0f921\"]]}],\"choropleth\":[{\"type\":\"choropleth\",\"colorbar\":{\"outlinewidth\":0,\"ticks\":\"\"}}],\"histogram2d\":[{\"type\":\"histogram2d\",\"colorbar\":{\"outlinewidth\":0,\"ticks\":\"\"},\"colorscale\":[[0.0,\"#0d0887\"],[0.1111111111111111,\"#46039f\"],[0.2222222222222222,\"#7201a8\"],[0.3333333333333333,\"#9c179e\"],[0.4444444444444444,\"#bd3786\"],[0.5555555555555556,\"#d8576b\"],[0.6666666666666666,\"#ed7953\"],[0.7777777777777778,\"#fb9f3a\"],[0.8888888888888888,\"#fdca26\"],[1.0,\"#f0f921\"]]}],\"heatmap\":[{\"type\":\"heatmap\",\"colorbar\":{\"outlinewidth\":0,\"ticks\":\"\"},\"colorscale\":[[0.0,\"#0d0887\"],[0.1111111111111111,\"#46039f\"],[0.2222222222222222,\"#7201a8\"],[0.3333333333333333,\"#9c179e\"],[0.4444444444444444,\"#bd3786\"],[0.5555555555555556,\"#d8576b\"],[0.6666666666666666,\"#ed7953\"],[0.7777777777777778,\"#fb9f3a\"],[0.8888888888888888,\"#fdca26\"],[1.0,\"#f0f921\"]]}],\"heatmapgl\":[{\"type\":\"heatmapgl\",\"colorbar\":{\"outlinewidth\":0,\"ticks\":\"\"},\"colorscale\":[[0.0,\"#0d0887\"],[0.1111111111111111,\"#46039f\"],[0.2222222222222222,\"#7201a8\"],[0.3333333333333333,\"#9c179e\"],[0.4444444444444444,\"#bd3786\"],[0.5555555555555556,\"#d8576b\"],[0.6666666666666666,\"#ed7953\"],[0.7777777777777778,\"#fb9f3a\"],[0.8888888888888888,\"#fdca26\"],[1.0,\"#f0f921\"]]}],\"contourcarpet\":[{\"type\":\"contourcarpet\",\"colorbar\":{\"outlinewidth\":0,\"ticks\":\"\"}}],\"contour\":[{\"type\":\"contour\",\"colorbar\":{\"outlinewidth\":0,\"ticks\":\"\"},\"colorscale\":[[0.0,\"#0d0887\"],[0.1111111111111111,\"#46039f\"],[0.2222222222222222,\"#7201a8\"],[0.3333333333333333,\"#9c179e\"],[0.4444444444444444,\"#bd3786\"],[0.5555555555555556,\"#d8576b\"],[0.6666666666666666,\"#ed7953\"],[0.7777777777777778,\"#fb9f3a\"],[0.8888888888888888,\"#fdca26\"],[1.0,\"#f0f921\"]]}],\"surface\":[{\"type\":\"surface\",\"colorbar\":{\"outlinewidth\":0,\"ticks\":\"\"},\"colorscale\":[[0.0,\"#0d0887\"],[0.1111111111111111,\"#46039f\"],[0.2222222222222222,\"#7201a8\"],[0.3333333333333333,\"#9c179e\"],[0.4444444444444444,\"#bd3786\"],[0.5555555555555556,\"#d8576b\"],[0.6666666666666666,\"#ed7953\"],[0.7777777777777778,\"#fb9f3a\"],[0.8888888888888888,\"#fdca26\"],[1.0,\"#f0f921\"]]}],\"mesh3d\":[{\"type\":\"mesh3d\",\"colorbar\":{\"outlinewidth\":0,\"ticks\":\"\"}}],\"scatter\":[{\"fillpattern\":{\"fillmode\":\"overlay\",\"size\":10,\"solidity\":0.2},\"type\":\"scatter\"}],\"parcoords\":[{\"type\":\"parcoords\",\"line\":{\"colorbar\":{\"outlinewidth\":0,\"ticks\":\"\"}}}],\"scatterpolargl\":[{\"type\":\"scatterpolargl\",\"marker\":{\"colorbar\":{\"outlinewidth\":0,\"ticks\":\"\"}}}],\"bar\":[{\"error_x\":{\"color\":\"#2a3f5f\"},\"error_y\":{\"color\":\"#2a3f5f\"},\"marker\":{\"line\":{\"color\":\"#E5ECF6\",\"width\":0.5},\"pattern\":{\"fillmode\":\"overlay\",\"size\":10,\"solidity\":0.2}},\"type\":\"bar\"}],\"scattergeo\":[{\"type\":\"scattergeo\",\"marker\":{\"colorbar\":{\"outlinewidth\":0,\"ticks\":\"\"}}}],\"scatterpolar\":[{\"type\":\"scatterpolar\",\"marker\":{\"colorbar\":{\"outlinewidth\":0,\"ticks\":\"\"}}}],\"histogram\":[{\"marker\":{\"pattern\":{\"fillmode\":\"overlay\",\"size\":10,\"solidity\":0.2}},\"type\":\"histogram\"}],\"scattergl\":[{\"type\":\"scattergl\",\"marker\":{\"colorbar\":{\"outlinewidth\":0,\"ticks\":\"\"}}}],\"scatter3d\":[{\"type\":\"scatter3d\",\"line\":{\"colorbar\":{\"outlinewidth\":0,\"ticks\":\"\"}},\"marker\":{\"colorbar\":{\"outlinewidth\":0,\"ticks\":\"\"}}}],\"scattermapbox\":[{\"type\":\"scattermapbox\",\"marker\":{\"colorbar\":{\"outlinewidth\":0,\"ticks\":\"\"}}}],\"scatterternary\":[{\"type\":\"scatterternary\",\"marker\":{\"colorbar\":{\"outlinewidth\":0,\"ticks\":\"\"}}}],\"scattercarpet\":[{\"type\":\"scattercarpet\",\"marker\":{\"colorbar\":{\"outlinewidth\":0,\"ticks\":\"\"}}}],\"carpet\":[{\"aaxis\":{\"endlinecolor\":\"#2a3f5f\",\"gridcolor\":\"white\",\"linecolor\":\"white\",\"minorgridcolor\":\"white\",\"startlinecolor\":\"#2a3f5f\"},\"baxis\":{\"endlinecolor\":\"#2a3f5f\",\"gridcolor\":\"white\",\"linecolor\":\"white\",\"minorgridcolor\":\"white\",\"startlinecolor\":\"#2a3f5f\"},\"type\":\"carpet\"}],\"table\":[{\"cells\":{\"fill\":{\"color\":\"#EBF0F8\"},\"line\":{\"color\":\"white\"}},\"header\":{\"fill\":{\"color\":\"#C8D4E3\"},\"line\":{\"color\":\"white\"}},\"type\":\"table\"}],\"barpolar\":[{\"marker\":{\"line\":{\"color\":\"#E5ECF6\",\"width\":0.5},\"pattern\":{\"fillmode\":\"overlay\",\"size\":10,\"solidity\":0.2}},\"type\":\"barpolar\"}],\"pie\":[{\"automargin\":true,\"type\":\"pie\"}]},\"layout\":{\"autotypenumbers\":\"strict\",\"colorway\":[\"#636efa\",\"#EF553B\",\"#00cc96\",\"#ab63fa\",\"#FFA15A\",\"#19d3f3\",\"#FF6692\",\"#B6E880\",\"#FF97FF\",\"#FECB52\"],\"font\":{\"color\":\"#2a3f5f\"},\"hovermode\":\"closest\",\"hoverlabel\":{\"align\":\"left\"},\"paper_bgcolor\":\"white\",\"plot_bgcolor\":\"#E5ECF6\",\"polar\":{\"bgcolor\":\"#E5ECF6\",\"angularaxis\":{\"gridcolor\":\"white\",\"linecolor\":\"white\",\"ticks\":\"\"},\"radialaxis\":{\"gridcolor\":\"white\",\"linecolor\":\"white\",\"ticks\":\"\"}},\"ternary\":{\"bgcolor\":\"#E5ECF6\",\"aaxis\":{\"gridcolor\":\"white\",\"linecolor\":\"white\",\"ticks\":\"\"},\"baxis\":{\"gridcolor\":\"white\",\"linecolor\":\"white\",\"ticks\":\"\"},\"caxis\":{\"gridcolor\":\"white\",\"linecolor\":\"white\",\"ticks\":\"\"}},\"coloraxis\":{\"colorbar\":{\"outlinewidth\":0,\"ticks\":\"\"}},\"colorscale\":{\"sequential\":[[0.0,\"#0d0887\"],[0.1111111111111111,\"#46039f\"],[0.2222222222222222,\"#7201a8\"],[0.3333333333333333,\"#9c179e\"],[0.4444444444444444,\"#bd3786\"],[0.5555555555555556,\"#d8576b\"],[0.6666666666666666,\"#ed7953\"],[0.7777777777777778,\"#fb9f3a\"],[0.8888888888888888,\"#fdca26\"],[1.0,\"#f0f921\"]],\"sequentialminus\":[[0.0,\"#0d0887\"],[0.1111111111111111,\"#46039f\"],[0.2222222222222222,\"#7201a8\"],[0.3333333333333333,\"#9c179e\"],[0.4444444444444444,\"#bd3786\"],[0.5555555555555556,\"#d8576b\"],[0.6666666666666666,\"#ed7953\"],[0.7777777777777778,\"#fb9f3a\"],[0.8888888888888888,\"#fdca26\"],[1.0,\"#f0f921\"]],\"diverging\":[[0,\"#8e0152\"],[0.1,\"#c51b7d\"],[0.2,\"#de77ae\"],[0.3,\"#f1b6da\"],[0.4,\"#fde0ef\"],[0.5,\"#f7f7f7\"],[0.6,\"#e6f5d0\"],[0.7,\"#b8e186\"],[0.8,\"#7fbc41\"],[0.9,\"#4d9221\"],[1,\"#276419\"]]},\"xaxis\":{\"gridcolor\":\"white\",\"linecolor\":\"white\",\"ticks\":\"\",\"title\":{\"standoff\":15},\"zerolinecolor\":\"white\",\"automargin\":true,\"zerolinewidth\":2},\"yaxis\":{\"gridcolor\":\"white\",\"linecolor\":\"white\",\"ticks\":\"\",\"title\":{\"standoff\":15},\"zerolinecolor\":\"white\",\"automargin\":true,\"zerolinewidth\":2},\"scene\":{\"xaxis\":{\"backgroundcolor\":\"#E5ECF6\",\"gridcolor\":\"white\",\"linecolor\":\"white\",\"showbackground\":true,\"ticks\":\"\",\"zerolinecolor\":\"white\",\"gridwidth\":2},\"yaxis\":{\"backgroundcolor\":\"#E5ECF6\",\"gridcolor\":\"white\",\"linecolor\":\"white\",\"showbackground\":true,\"ticks\":\"\",\"zerolinecolor\":\"white\",\"gridwidth\":2},\"zaxis\":{\"backgroundcolor\":\"#E5ECF6\",\"gridcolor\":\"white\",\"linecolor\":\"white\",\"showbackground\":true,\"ticks\":\"\",\"zerolinecolor\":\"white\",\"gridwidth\":2}},\"shapedefaults\":{\"line\":{\"color\":\"#2a3f5f\"}},\"annotationdefaults\":{\"arrowcolor\":\"#2a3f5f\",\"arrowhead\":0,\"arrowwidth\":1},\"geo\":{\"bgcolor\":\"white\",\"landcolor\":\"#E5ECF6\",\"subunitcolor\":\"white\",\"showland\":true,\"showlakes\":true,\"lakecolor\":\"white\"},\"title\":{\"x\":0.05},\"mapbox\":{\"style\":\"light\"}}},\"xaxis\":{\"anchor\":\"y\",\"domain\":[0.0,1.0],\"title\":{\"text\":\"Month\"},\"tickangle\":-45},\"yaxis\":{\"anchor\":\"x\",\"domain\":[0.0,1.0],\"title\":{\"text\":\"Total Duration (Hours)\"}},\"legend\":{\"tracegroupgap\":0},\"title\":{\"text\":\"Total Flight Duration (Hours) per Month\"},\"barmode\":\"relative\"},                        {\"responsive\": true}                    ).then(function(){\n",
              "                            \n",
              "var gd = document.getElementById('193872e1-ac6c-4773-b1a9-36a1418f0a75');\n",
              "var x = new MutationObserver(function (mutations, observer) {{\n",
              "        var display = window.getComputedStyle(gd).display;\n",
              "        if (!display || display === 'none') {{\n",
              "            console.log([gd, 'removed!']);\n",
              "            Plotly.purge(gd);\n",
              "            observer.disconnect();\n",
              "        }}\n",
              "}});\n",
              "\n",
              "// Listen for the removal of the full notebook cells\n",
              "var notebookContainer = gd.closest('#notebook-container');\n",
              "if (notebookContainer) {{\n",
              "    x.observe(notebookContainer, {childList: true});\n",
              "}}\n",
              "\n",
              "// Listen for the clearing of the current output cell\n",
              "var outputEl = gd.closest('.output');\n",
              "if (outputEl) {{\n",
              "    x.observe(outputEl, {childList: true});\n",
              "}}\n",
              "\n",
              "                        })                };                            </script>        </div>\n",
              "</body>\n",
              "</html>"
            ]
          },
          "metadata": {}
        }
      ]
    },
    {
      "cell_type": "code",
      "source": [
        "# pip install -U kaleido"
      ],
      "metadata": {
        "id": "D-ziuecB39IM"
      },
      "execution_count": 7,
      "outputs": []
    },
    {
      "cell_type": "code",
      "source": [
        "# prompt: export the above visualization as an image file\n",
        "import os\n",
        "\n",
        "# Export visualizations as image files\n",
        "fig_count.write_image('flights_per_month.png')\n",
        "fig_duration.write_image('duration_per_month.png')\n",
        "# fig_count.write_image('drive/MyDrive/'+ filename +'-flights_per_month.png')\n",
        "# fig_duration.write_image('drive/MyDrive/'+ filename +'-duration_per_month.png')\n",
        "print(\"\\nVisualizations exported as PNG images.\")"
      ],
      "metadata": {
        "id": "NredsKtg3nVo",
        "colab": {
          "base_uri": "https://localhost:8080/"
        },
        "outputId": "a2cf1f17-3999-440a-e8a1-2d376c8f1680"
      },
      "execution_count": 8,
      "outputs": [
        {
          "output_type": "stream",
          "name": "stdout",
          "text": [
            "\n",
            "Visualizations exported as PNG images.\n"
          ]
        }
      ]
    },
    {
      "cell_type": "code",
      "source": [
        "# prompt: export the above visualizations as one image file\n",
        "\n",
        "from PIL import Image\n",
        "\n",
        "# Define the paths to the saved image files\n",
        "image_paths = [\n",
        "    'flights_per_month.png',\n",
        "    'duration_per_month.png',\n",
        "]\n",
        "\n",
        "# Define the output image path\n",
        "output_image_path = 'drive/MyDrive/'+ filename +'-all_visualizations.png'\n",
        "\n",
        "# Open the images\n",
        "images = [Image.open(img_path) for img_path in image_paths]\n",
        "\n",
        "# Calculate the total width and height for the combined image\n",
        "# We'll stack them vertically\n",
        "total_width = max(img.width for img in images)\n",
        "total_height = sum(img.height for img in images)\n",
        "\n",
        "# Create a new blank image with the calculated dimensions\n",
        "combined_image = Image.new('RGB', (total_width, total_height), color = (255, 255, 255)) # White background\n",
        "\n",
        "# Paste the images into the combined image, stacking them vertically\n",
        "y_offset = 0\n",
        "for img in images:\n",
        "    combined_image.paste(img, (0, y_offset))\n",
        "    y_offset += img.height\n",
        "\n",
        "# Save the combined image\n",
        "combined_image.save(output_image_path)\n",
        "\n",
        "print(f\"\\nAll visualizations exported as a single image: {output_image_path}\")\n",
        "\n",
        "# Optional: Display the combined image (won't work directly in Colab output,\n",
        "# but the file is saved)\n",
        "# from IPython.display import display\n",
        "# display(combined_image)\n"
      ],
      "metadata": {
        "id": "O37EKMXY33WZ",
        "colab": {
          "base_uri": "https://localhost:8080/"
        },
        "outputId": "437471a1-323b-4b49-d3df-7d778e30137f"
      },
      "execution_count": 9,
      "outputs": [
        {
          "output_type": "stream",
          "name": "stdout",
          "text": [
            "\n",
            "All visualizations exported as a single image: drive/MyDrive/flights.Kanikana.world2025-all_visualizations.png\n"
          ]
        }
      ]
    },
    {
      "cell_type": "code",
      "source": [
        "＃pip install pypdfium2"
      ],
      "metadata": {
        "colab": {
          "base_uri": "https://localhost:8080/"
        },
        "id": "DidKoD_izrUr",
        "outputId": "1b4ebfef-5575-4a99-9fb0-ebf88df0921e"
      },
      "execution_count": 10,
      "outputs": [
        {
          "output_type": "stream",
          "name": "stdout",
          "text": [
            "Requirement already satisfied: pypdfium2 in /usr/local/lib/python3.11/dist-packages (4.30.1)\n"
          ]
        }
      ]
    },
    {
      "cell_type": "code",
      "source": [
        "# pip install fpdf2 reportlab"
      ],
      "metadata": {
        "id": "_UP3N9ZSxz4g"
      },
      "execution_count": 11,
      "outputs": []
    },
    {
      "cell_type": "code",
      "source": [
        "# prompt: export the above output, both statistics and visualization, to a pdf file using pypdfium2\n",
        "\n",
        "!pip install pypdfium2\n",
        "\n",
        "from fpdf import FPDF\n",
        "from PIL import Image\n",
        "\n",
        "# Ensure pypdfium2 is imported for PDF generation (though fpdf2 is used here)\n",
        "# import pypdfium2 as pdfium # Not strictly needed for this fpdf2 approach\n",
        "\n",
        "# Define the output PDF path\n",
        "output_pdf_path = 'drive/MyDrive/' + filename + '-report.pdf'\n",
        "\n",
        "# Create a PDF object\n",
        "pdf = FPDF()\n",
        "\n",
        "# Add a page\n",
        "pdf.add_page()\n",
        "\n",
        "# Set font\n",
        "# Japanese font\n",
        "# downloaded from https://moji.or.jp/ipafont/ipa00303/\n",
        "font_path =r\"ipag.ttf\"\n",
        "pdf.add_font(\"ipa\",fname=font_path,uni=True)\n",
        "pdf.set_font(\"ipa\", size = 10)\n",
        "\n",
        "# Add the text statistics from the .txt file\n",
        "stats_file_path = 'drive/MyDrive/'+ filename + '-stats.txt'\n",
        "try:\n",
        "    with open(stats_file_path, 'r') as f:\n",
        "        stats_text = f.read()\n",
        "    pdf.multi_cell(0, 10, txt = stats_text)\n",
        "except FileNotFoundError:\n",
        "    pdf.multi_cell(0, 10, txt = \"Statistics file not found.\")\n",
        "\n",
        "# Add a page for the visualizations\n",
        "pdf.add_page()\n",
        "\n",
        "# Add the combined image\n",
        "combined_image_path = 'drive/MyDrive/'+ filename +'-all_visualizations.png'\n",
        "try:\n",
        "    # Get image dimensions to fit within PDF page width\n",
        "    img = Image.open(combined_image_path)\n",
        "    img_width, img_height = img.size\n",
        "    pdf_width = pdf.w - 2*pdf.l_margin\n",
        "    img_ratio = img_height / img_width\n",
        "    pdf_height = pdf_width * img_ratio\n",
        "\n",
        "    # Ensure image doesn't exceed page height (optional, but good practice)\n",
        "    if pdf_height > pdf.h - 2*pdf.t_margin:\n",
        "        pdf_height = pdf.h - 2*pdf.t_margin\n",
        "        pdf_width = pdf_height / img_ratio\n",
        "\n",
        "\n",
        "    pdf.image(combined_image_path, x = pdf.l_margin, y = pdf.t_margin, w = pdf_width, h = pdf_height)\n",
        "except FileNotFoundError:\n",
        "    pdf.multi_cell(0, 10, txt = \"Combined visualization image not found.\")\n",
        "except Exception as e:\n",
        "    pdf.multi_cell(0, 10, txt = f\"Error adding image: {e}\")\n",
        "\n",
        "\n",
        "# Save the PDF\n",
        "pdf.output(output_pdf_path)\n",
        "\n",
        "print(f\"\\nReport exported to PDF: {output_pdf_path}\")"
      ],
      "metadata": {
        "colab": {
          "base_uri": "https://localhost:8080/"
        },
        "id": "Gi-u_y8BxmoU",
        "outputId": "5cd61636-bc6a-48d7-8a27-79050dbd6c85"
      },
      "execution_count": 12,
      "outputs": [
        {
          "output_type": "stream",
          "name": "stdout",
          "text": [
            "Requirement already satisfied: pypdfium2 in /usr/local/lib/python3.11/dist-packages (4.30.1)\n"
          ]
        },
        {
          "output_type": "stream",
          "name": "stderr",
          "text": [
            "<ipython-input-12-d729035e76c0>:24: DeprecationWarning:\n",
            "\n",
            "\"uni\" parameter is deprecated since v2.5.1, unused and will soon be removed\n",
            "\n",
            "<ipython-input-12-d729035e76c0>:32: DeprecationWarning:\n",
            "\n",
            "The parameter \"txt\" has been renamed to \"text\" in 2.7.6\n",
            "\n"
          ]
        },
        {
          "output_type": "stream",
          "name": "stdout",
          "text": [
            "\n",
            "Report exported to PDF: drive/MyDrive/flights.Kanikana.world2025-report.pdf\n"
          ]
        }
      ]
    }
  ],
  "metadata": {
    "colab": {
      "provenance": [],
      "include_colab_link": true
    },
    "kernelspec": {
      "display_name": "Python 3",
      "name": "python3"
    }
  },
  "nbformat": 4,
  "nbformat_minor": 0
}